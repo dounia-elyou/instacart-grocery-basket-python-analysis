{
 "cells": [
  {
   "cell_type": "markdown",
   "id": "76731efc-5014-4ea0-93a1-5b3dea8a53c2",
   "metadata": {},
   "source": [
    "# Importing Libraries"
   ]
  },
  {
   "cell_type": "code",
   "execution_count": 5,
   "id": "f9534e8b-78e9-4436-878b-15ecd6c6bc43",
   "metadata": {},
   "outputs": [],
   "source": [
    "# Import libraries\n",
    "import pandas as pd\n",
    "import numpy as np\n",
    "import os"
   ]
  },
  {
   "cell_type": "markdown",
   "id": "a1740ee8-7416-4866-91a6-96b4c7d98a6d",
   "metadata": {},
   "source": [
    "# Importing Data Base"
   ]
  },
  {
   "cell_type": "code",
   "execution_count": 7,
   "id": "5d7298b6-f2f5-46ed-a229-4227dac371d8",
   "metadata": {},
   "outputs": [],
   "source": [
    "# Import ords_prods_merge.pkl\n",
    "# Create a string of the path\n",
    "# Define the path variable\n",
    "path=r'/Users/douniaelyoussoufi/Achievement 4 '\n",
    "# Load the ords_prods_merge.pkl file directly using os.path.join\n",
    "df_ords_prods_merg = pd.read_pickle(os.path.join(path, '02 Data', 'Prepared Data', 'ords_prods_merge.pkl'))"
   ]
  },
  {
   "cell_type": "markdown",
   "id": "dd6737fd-5cf1-4f1c-bdae-782c253f8c5c",
   "metadata": {},
   "source": [
    "# Step 1: Exercise 4.7"
   ]
  },
  {
   "cell_type": "code",
   "execution_count": 9,
   "id": "9fd8aeb8-3a4e-41c3-b998-1dd2eb992582",
   "metadata": {},
   "outputs": [
    {
     "data": {
      "text/plain": [
       "(1000000, 16)"
      ]
     },
     "execution_count": 9,
     "metadata": {},
     "output_type": "execute_result"
    }
   ],
   "source": [
    "# Create a subset\n",
    "df = df_ords_prods_merg[:1000000]\n",
    "# The dimensions of this subset\n",
    "df.shape"
   ]
  },
  {
   "cell_type": "code",
   "execution_count": 17,
   "id": "e3b79d82-ac05-427d-9c4c-fb1327693a98",
   "metadata": {},
   "outputs": [],
   "source": [
    "# Define the 'price_label' function that categorizes a product based on its price\n",
    "def price_label(row):\n",
    "  if row['prices'] <= 5:\n",
    "    return 'Low-range product'\n",
    "  elif (row['prices'] > 5) and (row['prices'] <= 15):\n",
    "    return 'Mid-range product'\n",
    "  elif row['prices'] > 15:\n",
    "    return 'High range'\n",
    "  else: return 'Not enough data'"
   ]
  },
  {
   "cell_type": "code",
   "execution_count": 27,
   "id": "4c56628d-addb-420e-876a-12ec6ed27cc7",
   "metadata": {
    "scrolled": true
   },
   "outputs": [],
   "source": [
    "# Apply the price_label function to each row in the DataFrame and create a new column 'price_range' to store the categorized price labels\n",
    "df = df.copy()  # Ensures df is a new DataFrame, preventing view issues\n",
    "df['price_range'] = df.apply(price_label, axis=1)"
   ]
  },
  {
   "cell_type": "code",
   "execution_count": 31,
   "id": "e79dfe13-fdd4-4b8d-8cd7-f034b2c55752",
   "metadata": {},
   "outputs": [
    {
     "data": {
      "text/plain": [
       "(1000000, 17)"
      ]
     },
     "execution_count": 31,
     "metadata": {},
     "output_type": "execute_result"
    }
   ],
   "source": [
    "# Checking the dimensions of the DataFrame after adding a new column ('price_range') using the function\n",
    "df.shape"
   ]
  },
  {
   "cell_type": "code",
   "execution_count": 33,
   "id": "26c4b36d-373a-480f-b9a3-d0eb4e564951",
   "metadata": {},
   "outputs": [
    {
     "data": {
      "text/plain": [
       "price_range\n",
       "Mid-range product    673592\n",
       "Low-range product    312617\n",
       "High range            12900\n",
       "Not enough data         891\n",
       "Name: count, dtype: int64"
      ]
     },
     "execution_count": 33,
     "metadata": {},
     "output_type": "execute_result"
    }
   ],
   "source": [
    "# Check the distribution of values in the 'price_range' column after applying the price_label function\n",
    "df['price_range'].value_counts(dropna=False)"
   ]
  },
  {
   "cell_type": "code",
   "execution_count": 41,
   "id": "aca2d977-98dc-453f-bd4e-f671b4e109cb",
   "metadata": {},
   "outputs": [],
   "source": [
    "# Assign 'High-range product' to 'price_range_loc' where prices are greater than 15 using loc()\n",
    "df.loc[df['prices'] > 15, 'price_range_loc'] = 'High-range product'\n",
    "# Assign 'Mid-range product' to 'price_range_loc' where prices are between 5 and 15 using loc()\n",
    "df.loc[(df['prices'] <= 15) & (df['prices'] > 5), 'price_range_loc'] = 'Mid-range product' \n",
    "# Assign 'Low-range product' to 'price_range_loc' where prices are 5 or below using loc()\n",
    "df.loc[df['prices'] <= 5, 'price_range_loc'] = 'Low-range product'"
   ]
  },
  {
   "cell_type": "code",
   "execution_count": 45,
   "id": "8cb0a006-677b-4743-a34b-2bef6e219481",
   "metadata": {},
   "outputs": [
    {
     "data": {
      "text/plain": [
       "price_range_loc\n",
       "Mid-range product     673592\n",
       "Low-range product     312617\n",
       "High-range product     12900\n",
       "NaN                      891\n",
       "Name: count, dtype: int64"
      ]
     },
     "execution_count": 45,
     "metadata": {},
     "output_type": "execute_result"
    }
   ],
   "source": [
    "# Check the distribution of values in the 'price_range_loc'\n",
    "df['price_range_loc'].value_counts(dropna=False)"
   ]
  },
  {
   "cell_type": "code",
   "execution_count": 25,
   "id": "a5456d2c-09ad-47ce-9b4e-34942213e6fb",
   "metadata": {},
   "outputs": [
    {
     "data": {
      "text/plain": [
       "order_dow\n",
       "0    6209808\n",
       "1    5665951\n",
       "6    4500391\n",
       "2    4217868\n",
       "5    4209603\n",
       "3    3844175\n",
       "4    3787263\n",
       "Name: count, dtype: int64"
      ]
     },
     "execution_count": 25,
     "metadata": {},
     "output_type": "execute_result"
    }
   ],
   "source": [
    "# Count the occurrences of each value in the 'orders_day_of_week' column\n",
    "df_ords_prods_merg['order_dow'].value_counts(dropna=False)"
   ]
  },
  {
   "cell_type": "code",
   "execution_count": 27,
   "id": "c2b6e0c7-5e8f-4c29-9d1e-7a5fb0f7eacd",
   "metadata": {},
   "outputs": [],
   "source": [
    "# Initialize an empty list to store the results\n",
    "result = []\n",
    "\n",
    "# Loop through each row and categorize the day\n",
    "for value in df_ords_prods_merg[\"order_dow\"]:\n",
    "    if value == 0:  # Saturday (Busiest day)\n",
    "        result.append(\"Busiest day\")\n",
    "    elif value == 4:  # Wednesday (Least busy day)\n",
    "        result.append(\"Least busy\")\n",
    "    else:\n",
    "        result.append(\"Regularly busy\")  # Other days\n",
    "\n",
    "# Assign the result list to the new 'busiest day' column\n",
    "df_ords_prods_merg['busiest day'] = result"
   ]
  },
  {
   "cell_type": "code",
   "execution_count": 29,
   "id": "291a7c82-9f66-44a0-9e59-5dc6649a9e65",
   "metadata": {},
   "outputs": [
    {
     "data": {
      "text/plain": [
       "busiest day\n",
       "Regularly busy    22437988\n",
       "Busiest day        6209808\n",
       "Least busy         3787263\n",
       "Name: count, dtype: int64"
      ]
     },
     "execution_count": 29,
     "metadata": {},
     "output_type": "execute_result"
    }
   ],
   "source": [
    "# Count occurrences of each label in 'busiest day' column\n",
    "df_ords_prods_merg['busiest day'].value_counts(dropna=False)"
   ]
  },
  {
   "cell_type": "code",
   "execution_count": 31,
   "id": "565d7331-1f5f-47d0-a361-fb0fe6030ef4",
   "metadata": {},
   "outputs": [
    {
     "name": "stdout",
     "output_type": "stream",
     "text": [
      "Frequency of 'busiest day' column:\n",
      "busiest day\n",
      "Regularly busy    22437988\n",
      "Busiest day        6209808\n",
      "Least busy         3787263\n",
      "Name: count, dtype: int64\n",
      "\n",
      "Frequency of 'orders_day_of_week' column:\n",
      "order_dow\n",
      "0    6209808\n",
      "1    5665951\n",
      "6    4500391\n",
      "2    4217868\n",
      "5    4209603\n",
      "3    3844175\n",
      "4    3787263\n",
      "Name: count, dtype: int64\n"
     ]
    }
   ],
   "source": [
    "# Print frequency of 'busiest day' column\n",
    "print(\"Frequency of 'busiest day' column:\")\n",
    "print(df_ords_prods_merg['busiest day'].value_counts(dropna=False))\n",
    "# Print frequency of 'order_dow' column (for comparison)\n",
    "print(\"\\nFrequency of 'orders_day_of_week' column:\")\n",
    "print(df_ords_prods_merg['order_dow'].value_counts(dropna=False))"
   ]
  },
  {
   "cell_type": "markdown",
   "id": "304de2ad-ed07-4f45-9975-717405a4a521",
   "metadata": {},
   "source": [
    "# Step 2"
   ]
  },
  {
   "cell_type": "markdown",
   "id": "563fa927-f554-422f-8d0a-1e3eb9d22f17",
   "metadata": {},
   "source": [
    "Create a new column by updating the \"busiest day\" column to assign the two busiest days (Saturday and Sunday) and the two slowest days (Tuesday and Wednesday)."
   ]
  },
  {
   "cell_type": "code",
   "execution_count": 61,
   "id": "5b67d861-4d77-481f-9eaf-5b5635346587",
   "metadata": {},
   "outputs": [],
   "source": [
    "# Initialize an empty list to store the results\n",
    "result = []\n",
    "\n",
    "# Loop through each row and categorize the day\n",
    "for value in df_ords_prods_merg[\"order_dow\"]:\n",
    "    if value in [0, 1]:  # Saturday and Sunday (Busiest days)\n",
    "        result.append(\"Busiest days\")\n",
    "    elif value in [3, 4]:  # Tuesday and Wednesday (Slowest days)\n",
    "        result.append(\"Slowest days\")\n",
    "    else:\n",
    "        result.append(\"Regularly busy\")  # Other days\n",
    "\n",
    "# Assign the result list to the new 'busiest_days' column\n",
    "df_ords_prods_merg[\"busiest_days\"] = result"
   ]
  },
  {
   "cell_type": "markdown",
   "id": "c209b3dd-4305-4b94-a52a-ecc12203e6f7",
   "metadata": {},
   "source": [
    "# Step 3"
   ]
  },
  {
   "cell_type": "code",
   "execution_count": 63,
   "id": "1856d25c-5cfa-4237-82db-4a35f33b1e30",
   "metadata": {},
   "outputs": [
    {
     "data": {
      "text/plain": [
       "busiest_days\n",
       "Regularly busy    12927862\n",
       "Busiest days      11875759\n",
       "Slowest days       7631438\n",
       "Name: count, dtype: int64"
      ]
     },
     "execution_count": 63,
     "metadata": {},
     "output_type": "execute_result"
    }
   ],
   "source": [
    "# Display the count of each category in the new column\n",
    "df_ords_prods_merg[\"busiest_days\"].value_counts(dropna=False)"
   ]
  },
  {
   "cell_type": "markdown",
   "id": "7ea68733-036a-4aaa-96a8-b7902d443289",
   "metadata": {},
   "source": [
    "# Step 4"
   ]
  },
  {
   "cell_type": "code",
   "execution_count": 70,
   "id": "8788bd43-9e6d-42da-82e1-518658e8bd71",
   "metadata": {},
   "outputs": [
    {
     "data": {
      "text/plain": [
       "order_hour_of_day\n",
       "0      218951\n",
       "1      115787\n",
       "2       69435\n",
       "3       51321\n",
       "4       53284\n",
       "5       88064\n",
       "6      290796\n",
       "7      891951\n",
       "8     1719991\n",
       "9     2456751\n",
       "10    2764476\n",
       "11    2738647\n",
       "12    2620898\n",
       "13    2663346\n",
       "14    2691598\n",
       "15    2664583\n",
       "16    2537506\n",
       "17    2089510\n",
       "18    1637956\n",
       "19    1259416\n",
       "20     977049\n",
       "21     796379\n",
       "22     634743\n",
       "23     402621\n",
       "Name: count, dtype: int64"
      ]
     },
     "execution_count": 70,
     "metadata": {},
     "output_type": "execute_result"
    }
   ],
   "source": [
    "# Count the number of orders for each hour\n",
    "hourly_orders = df_ords_prods_merg[\"order_hour_of_day\"].value_counts().sort_index()\n",
    "# Display the results\n",
    "hourly_orders"
   ]
  },
  {
   "cell_type": "markdown",
   "id": "aa04a99e-617d-4167-b61d-2cf4b40a07a2",
   "metadata": {},
   "source": [
    "Based on the order distribution, we can categorize the hours into three periods:\n",
    "- \"Most orders\" → 10 AM to 4 PM (highest order volume)\n",
    "- \"Average orders\" → 7 AM to 9 AM & 5 PM to 7 PM (moderate order volume)\n",
    "- \"Fewest orders\" → 8 PM to 6 AM (low order volume)"
   ]
  },
  {
   "cell_type": "code",
   "execution_count": 73,
   "id": "4bdd83cd-dd8e-4cee-bd72-673ca7f396ef",
   "metadata": {},
   "outputs": [],
   "source": [
    "# Create the 'busiest_period_of_day' column\n",
    "df_ords_prods_merg[\"busiest_period_of_day\"] = c\n",
    "# Assign \"Most orders\" to peak hours\n",
    "df_ords_prods_merg.loc[df_ords_prods_merg[\"order_hour_of_day\"].between(10, 16), \"busiest_period_of_day\"] = \"Most orders\"\n",
    "# Assign \"Average orders\" to moderately busy hours\n",
    "df_ords_prods_merg.loc[df_ords_prods_merg[\"order_hour_of_day\"].between(7, 9) | df_ords_prods_merg[\"order_hour_of_day\"].between(17, 19), \"busiest_period_of_day\"] = \"Average orders\""
   ]
  },
  {
   "cell_type": "markdown",
   "id": "d35036d3-4ca3-4e59-92a8-d122add36fca",
   "metadata": {},
   "source": [
    "# Step 5"
   ]
  },
  {
   "cell_type": "code",
   "execution_count": 84,
   "id": "111b49e7-adce-4bba-ba60-38a7dc7e5ec0",
   "metadata": {},
   "outputs": [
    {
     "data": {
      "text/plain": [
       "busiest_period_of_day\n",
       "Most orders       18681054\n",
       "Average orders    10055575\n",
       "Fewest orders      3698430\n",
       "Name: count, dtype: int64"
      ]
     },
     "execution_count": 84,
     "metadata": {},
     "output_type": "execute_result"
    }
   ],
   "source": [
    "# Display the count of each category in the \"busiest_period_of_day\" column\n",
    "df_ords_prods_merg[\"busiest_period_of_day\"].value_counts(dropna=False)"
   ]
  },
  {
   "cell_type": "markdown",
   "id": "e33b6df8-fe34-400d-8d03-ac0e7d0f086d",
   "metadata": {},
   "source": [
    "# Step 7"
   ]
  },
  {
   "cell_type": "code",
   "execution_count": 90,
   "id": "efd9bd17-a457-460d-ad78-bd807ab30e13",
   "metadata": {},
   "outputs": [],
   "source": [
    "# Export data df_ords_prods_merg dataframe with the new columns to pkl\n",
    "df_ords_prods_merg.to_pickle(os.path.join(path, '02 Data','Prepared Data', 'ords_prods_merge_bdays.pkl'))"
   ]
  }
 ],
 "metadata": {
  "kernelspec": {
   "display_name": "Python [conda env:base] *",
   "language": "python",
   "name": "conda-base-py"
  },
  "language_info": {
   "codemirror_mode": {
    "name": "ipython",
    "version": 3
   },
   "file_extension": ".py",
   "mimetype": "text/x-python",
   "name": "python",
   "nbconvert_exporter": "python",
   "pygments_lexer": "ipython3",
   "version": "3.12.7"
  }
 },
 "nbformat": 4,
 "nbformat_minor": 5
}

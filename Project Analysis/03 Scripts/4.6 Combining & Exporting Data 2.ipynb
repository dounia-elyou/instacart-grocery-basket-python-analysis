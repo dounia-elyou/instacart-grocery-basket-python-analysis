{
 "cells": [
  {
   "cell_type": "markdown",
   "id": "d1636ac7-f08a-484c-9fa2-6a5d7f4c7837",
   "metadata": {},
   "source": [
    "# Importing Libraries"
   ]
  },
  {
   "cell_type": "code",
   "execution_count": 3,
   "id": "5f1a786f-37c8-4989-8318-3dae4ce1cbf5",
   "metadata": {},
   "outputs": [],
   "source": [
    "# Import libraries\n",
    "import pandas as pd\n",
    "import numpy as np\n",
    "import os"
   ]
  },
  {
   "cell_type": "markdown",
   "id": "ac3ccd8f-20d3-489e-af59-eca40fe40dbc",
   "metadata": {},
   "source": [
    "# Step 3"
   ]
  },
  {
   "cell_type": "code",
   "execution_count": 12,
   "id": "9ebbbcbf-26d4-4fed-95ef-20bd9d829eaa",
   "metadata": {},
   "outputs": [],
   "source": [
    "# Import orders_products_combined\n",
    "# Create a string of the path\n",
    "# Define the path variable\n",
    "path=r'/Users/douniaelyoussoufi/Achievement 4 '\n",
    "# Load the orders_products_combined file directly using os.path.join\n",
    "df_ords_prods_com = pd.read_pickle(os.path.join(path, '02 Data', 'Prepared Data', 'orders_products_combined.pkl'))"
   ]
  },
  {
   "cell_type": "markdown",
   "id": "24bacd51-e8cf-4f8f-9b38-48c55fb18126",
   "metadata": {},
   "source": [
    "# Step 4"
   ]
  },
  {
   "cell_type": "code",
   "execution_count": 15,
   "id": "fc3e9de0-233c-43a4-bd25-bd18d8cbfcc9",
   "metadata": {},
   "outputs": [
    {
     "data": {
      "text/plain": [
       "(32434489, 11)"
      ]
     },
     "execution_count": 15,
     "metadata": {},
     "output_type": "execute_result"
    }
   ],
   "source": [
    "# Check the dimensions of df_ords_prods_com\n",
    "df_ords_prods_com.shape"
   ]
  },
  {
   "cell_type": "markdown",
   "id": "76a1c03e-f00b-4dad-aab1-cb7d01a55054",
   "metadata": {},
   "source": [
    "# Step 5"
   ]
  },
  {
   "cell_type": "code",
   "execution_count": 18,
   "id": "e86d8f4b-1074-4a98-b89f-ae7aac104434",
   "metadata": {},
   "outputs": [],
   "source": [
    "# Import products.csv\n",
    "# Load the Products CSV file directly using os.path.join\n",
    "df_prods = pd.read_csv(os.path.join(path, '02 Data', 'Prepared Data', 'products_checked.csv'), index_col=False)"
   ]
  },
  {
   "cell_type": "code",
   "execution_count": 21,
   "id": "8df5582b-e75f-44b7-82bd-95bf825dbe7e",
   "metadata": {},
   "outputs": [
    {
     "data": {
      "text/html": [
       "<div>\n",
       "<style scoped>\n",
       "    .dataframe tbody tr th:only-of-type {\n",
       "        vertical-align: middle;\n",
       "    }\n",
       "\n",
       "    .dataframe tbody tr th {\n",
       "        vertical-align: top;\n",
       "    }\n",
       "\n",
       "    .dataframe thead th {\n",
       "        text-align: right;\n",
       "    }\n",
       "</style>\n",
       "<table border=\"1\" class=\"dataframe\">\n",
       "  <thead>\n",
       "    <tr style=\"text-align: right;\">\n",
       "      <th></th>\n",
       "      <th>order_id</th>\n",
       "      <th>product_id</th>\n",
       "      <th>add_to_cart_order</th>\n",
       "      <th>reordered</th>\n",
       "      <th>user_id</th>\n",
       "      <th>eval_set</th>\n",
       "      <th>order_number</th>\n",
       "      <th>order_dow</th>\n",
       "      <th>order_hour_of_day</th>\n",
       "      <th>days_since_prior_order</th>\n",
       "      <th>_merge</th>\n",
       "      <th>Unnamed: 0</th>\n",
       "      <th>product_name</th>\n",
       "      <th>aisle_id</th>\n",
       "      <th>department_id</th>\n",
       "      <th>prices</th>\n",
       "    </tr>\n",
       "  </thead>\n",
       "  <tbody>\n",
       "    <tr>\n",
       "      <th>0</th>\n",
       "      <td>2</td>\n",
       "      <td>33120</td>\n",
       "      <td>1</td>\n",
       "      <td>1</td>\n",
       "      <td>202279</td>\n",
       "      <td>prior</td>\n",
       "      <td>3</td>\n",
       "      <td>5</td>\n",
       "      <td>9</td>\n",
       "      <td>8.0</td>\n",
       "      <td>both</td>\n",
       "      <td>33122.0</td>\n",
       "      <td>Organic Egg Whites</td>\n",
       "      <td>86.0</td>\n",
       "      <td>16.0</td>\n",
       "      <td>11.3</td>\n",
       "    </tr>\n",
       "    <tr>\n",
       "      <th>1</th>\n",
       "      <td>2</td>\n",
       "      <td>28985</td>\n",
       "      <td>2</td>\n",
       "      <td>1</td>\n",
       "      <td>202279</td>\n",
       "      <td>prior</td>\n",
       "      <td>3</td>\n",
       "      <td>5</td>\n",
       "      <td>9</td>\n",
       "      <td>8.0</td>\n",
       "      <td>both</td>\n",
       "      <td>28987.0</td>\n",
       "      <td>Michigan Organic Kale</td>\n",
       "      <td>83.0</td>\n",
       "      <td>4.0</td>\n",
       "      <td>13.4</td>\n",
       "    </tr>\n",
       "    <tr>\n",
       "      <th>2</th>\n",
       "      <td>2</td>\n",
       "      <td>9327</td>\n",
       "      <td>3</td>\n",
       "      <td>0</td>\n",
       "      <td>202279</td>\n",
       "      <td>prior</td>\n",
       "      <td>3</td>\n",
       "      <td>5</td>\n",
       "      <td>9</td>\n",
       "      <td>8.0</td>\n",
       "      <td>both</td>\n",
       "      <td>9327.0</td>\n",
       "      <td>Garlic Powder</td>\n",
       "      <td>104.0</td>\n",
       "      <td>13.0</td>\n",
       "      <td>3.6</td>\n",
       "    </tr>\n",
       "    <tr>\n",
       "      <th>3</th>\n",
       "      <td>2</td>\n",
       "      <td>45918</td>\n",
       "      <td>4</td>\n",
       "      <td>1</td>\n",
       "      <td>202279</td>\n",
       "      <td>prior</td>\n",
       "      <td>3</td>\n",
       "      <td>5</td>\n",
       "      <td>9</td>\n",
       "      <td>8.0</td>\n",
       "      <td>both</td>\n",
       "      <td>45922.0</td>\n",
       "      <td>Coconut Butter</td>\n",
       "      <td>19.0</td>\n",
       "      <td>13.0</td>\n",
       "      <td>8.4</td>\n",
       "    </tr>\n",
       "    <tr>\n",
       "      <th>4</th>\n",
       "      <td>2</td>\n",
       "      <td>30035</td>\n",
       "      <td>5</td>\n",
       "      <td>0</td>\n",
       "      <td>202279</td>\n",
       "      <td>prior</td>\n",
       "      <td>3</td>\n",
       "      <td>5</td>\n",
       "      <td>9</td>\n",
       "      <td>8.0</td>\n",
       "      <td>both</td>\n",
       "      <td>30037.0</td>\n",
       "      <td>Natural Sweetener</td>\n",
       "      <td>17.0</td>\n",
       "      <td>13.0</td>\n",
       "      <td>13.7</td>\n",
       "    </tr>\n",
       "  </tbody>\n",
       "</table>\n",
       "</div>"
      ],
      "text/plain": [
       "   order_id  product_id  add_to_cart_order  reordered  user_id eval_set  \\\n",
       "0         2       33120                  1          1   202279    prior   \n",
       "1         2       28985                  2          1   202279    prior   \n",
       "2         2        9327                  3          0   202279    prior   \n",
       "3         2       45918                  4          1   202279    prior   \n",
       "4         2       30035                  5          0   202279    prior   \n",
       "\n",
       "   order_number  order_dow  order_hour_of_day  days_since_prior_order _merge  \\\n",
       "0             3          5                  9                     8.0   both   \n",
       "1             3          5                  9                     8.0   both   \n",
       "2             3          5                  9                     8.0   both   \n",
       "3             3          5                  9                     8.0   both   \n",
       "4             3          5                  9                     8.0   both   \n",
       "\n",
       "   Unnamed: 0           product_name  aisle_id  department_id  prices  \n",
       "0     33122.0     Organic Egg Whites      86.0           16.0    11.3  \n",
       "1     28987.0  Michigan Organic Kale      83.0            4.0    13.4  \n",
       "2      9327.0          Garlic Powder     104.0           13.0     3.6  \n",
       "3     45922.0         Coconut Butter      19.0           13.0     8.4  \n",
       "4     30037.0      Natural Sweetener      17.0           13.0    13.7  "
      ]
     },
     "execution_count": 21,
     "metadata": {},
     "output_type": "execute_result"
    }
   ],
   "source": [
    "# Merge the orders_products_combined dataframe with the checked products data\n",
    "df_combined = pd.merge(df_ords_prods_com, df_prods, on='product_id', how='left')\n",
    "# Display the first five rows of the combined dataframe\n",
    "df_combined.head()"
   ]
  },
  {
   "cell_type": "markdown",
   "id": "05b36b56-cf8f-4ae8-8fa2-25fb762a24a4",
   "metadata": {},
   "source": [
    "This specifies a left join, meaning all rows from df_ords_prods_com will be kept, and matching rows from df_prods will be added. If no match is found, the resulting columns from df_prods will have NaN values."
   ]
  },
  {
   "cell_type": "markdown",
   "id": "85b8832d-a963-4879-a195-3aba1f8e7589",
   "metadata": {},
   "source": [
    "# Step 6"
   ]
  },
  {
   "cell_type": "code",
   "execution_count": 24,
   "id": "a0541eec-c715-4f17-aeb7-74f920e22b9a",
   "metadata": {},
   "outputs": [
    {
     "data": {
      "text/plain": [
       "_merge\n",
       "both          32435059\n",
       "left_only            0\n",
       "right_only           0\n",
       "Name: count, dtype: int64"
      ]
     },
     "execution_count": 24,
     "metadata": {},
     "output_type": "execute_result"
    }
   ],
   "source": [
    "# To check how many rows came from each source (left_only, right_only, both)\n",
    "df_combined['_merge'].value_counts()"
   ]
  },
  {
   "cell_type": "markdown",
   "id": "d1dc1cc6-23a9-4c88-b0ec-e932ed0e0a25",
   "metadata": {},
   "source": [
    "This indicates that all the rows from df_ords_prods_com successfully matched with rows from df_prods."
   ]
  },
  {
   "cell_type": "markdown",
   "id": "697458b4-bab1-4085-b2d5-5dbe25bf5b6d",
   "metadata": {},
   "source": [
    "# Step 7"
   ]
  },
  {
   "cell_type": "code",
   "execution_count": 28,
   "id": "7c4d65cd-864b-4f56-88c3-98e43f67175a",
   "metadata": {},
   "outputs": [],
   "source": [
    "# Export data df_combined dataframe to pkl\n",
    "df_combined.to_pickle(os.path.join(path, '02 Data','Prepared Data', 'ords_prods_merge.pkl'))"
   ]
  }
 ],
 "metadata": {
  "kernelspec": {
   "display_name": "Python [conda env:base] *",
   "language": "python",
   "name": "conda-base-py"
  },
  "language_info": {
   "codemirror_mode": {
    "name": "ipython",
    "version": 3
   },
   "file_extension": ".py",
   "mimetype": "text/x-python",
   "name": "python",
   "nbconvert_exporter": "python",
   "pygments_lexer": "ipython3",
   "version": "3.12.7"
  }
 },
 "nbformat": 4,
 "nbformat_minor": 5
}

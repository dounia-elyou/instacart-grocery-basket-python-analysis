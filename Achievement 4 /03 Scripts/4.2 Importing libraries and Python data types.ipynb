{
 "cells": [
  {
   "cell_type": "markdown",
   "id": "ad56884a-68ea-4d9b-88a7-b2feae1c79a9",
   "metadata": {},
   "source": [
    "# Importing libraries"
   ]
  },
  {
   "cell_type": "code",
   "execution_count": 1,
   "id": "4d915f6e-c52c-4fa3-9578-bc2352919385",
   "metadata": {},
   "outputs": [],
   "source": [
    "# Import libraries\n",
    "import pandas as pd\n",
    "import numpy as np\n",
    "import os"
   ]
  },
  {
   "cell_type": "markdown",
   "id": "c88cc23d-a820-4a61-beb7-7ae386410379",
   "metadata": {},
   "source": [
    "# Python data types"
   ]
  },
  {
   "cell_type": "code",
   "execution_count": 15,
   "id": "85ee957c-49db-42d4-8391-8099ae62267f",
   "metadata": {},
   "outputs": [
    {
     "name": "stdout",
     "output_type": "stream",
     "text": [
      "100\n"
     ]
    }
   ],
   "source": [
    "# Variables\n",
    "a=40\n",
    "b=60\n",
    "# Result\n",
    "r1=a+b\n",
    "print(r1)"
   ]
  },
  {
   "cell_type": "code",
   "execution_count": 17,
   "id": "6af6cfed-a616-4263-afea-facfb35a4c26",
   "metadata": {},
   "outputs": [
    {
     "name": "stdout",
     "output_type": "stream",
     "text": [
      "100\n"
     ]
    }
   ],
   "source": [
    "# Variables\n",
    "x=200\n",
    "y=100\n",
    "# Result\n",
    "r2=x-y\n",
    "print(r2)"
   ]
  },
  {
   "cell_type": "code",
   "execution_count": 21,
   "id": "3114880f-040f-4e47-bb77-93bb47a3b69d",
   "metadata": {},
   "outputs": [
    {
     "name": "stdout",
     "output_type": "stream",
     "text": [
      "100\n"
     ]
    }
   ],
   "source": [
    "# Variables\n",
    "p=150\n",
    "q=50\n",
    "o=100\n",
    "# Result\n",
    "r3=p-o+q\n",
    "print(r3)"
   ]
  },
  {
   "cell_type": "code",
   "execution_count": 25,
   "id": "a6af2ef5-b7b2-4d5f-880d-1402884239de",
   "metadata": {},
   "outputs": [
    {
     "name": "stdout",
     "output_type": "stream",
     "text": [
      "5.0\n"
     ]
    }
   ],
   "source": [
    "# Variables\n",
    "c=25.5\n",
    "d=5.1\n",
    "# Division\n",
    "r4= c/d\n",
    "print(r4)"
   ]
  },
  {
   "cell_type": "code",
   "execution_count": 27,
   "id": "bff977e2-b361-4669-b1c8-39bd783d493a",
   "metadata": {},
   "outputs": [
    {
     "name": "stdout",
     "output_type": "stream",
     "text": [
      "Python\n"
     ]
    }
   ],
   "source": [
    "# Strings\n",
    "part1=\"Py\"\n",
    "part2=\"thon\"\n",
    "# Concatenate the strings\n",
    "shortword=part1+part2\n",
    "print(shortword)"
   ]
  },
  {
   "cell_type": "code",
   "execution_count": 35,
   "id": "c3c1d9c5-9ede-4218-a762-5ff7b6e8d813",
   "metadata": {},
   "outputs": [
    {
     "name": "stdout",
     "output_type": "stream",
     "text": [
      "Learning is fun. Practice makes perfect.\n"
     ]
    }
   ],
   "source": [
    "# Strings for the first sentence\n",
    "part3=\"Learning \"\n",
    "part4=\"is fun.\"\n",
    "sentence1=part3+part4\n",
    "# Strings for the second sentence\n",
    "part5=\" Practice \"\n",
    "part6=\"makes perfect.\"\n",
    "sentence2= part5+part6\n",
    "# Combine both sentences in one line\n",
    "r5=sentence1+sentence2\n",
    "# Print the sentence\n",
    "print(r5)"
   ]
  },
  {
   "cell_type": "code",
   "execution_count": null,
   "id": "68ea9540-1380-40b0-aef7-b6c4bbeea28d",
   "metadata": {},
   "outputs": [],
   "source": []
  }
 ],
 "metadata": {
  "kernelspec": {
   "display_name": "Python [conda env:base] *",
   "language": "python",
   "name": "conda-base-py"
  },
  "language_info": {
   "codemirror_mode": {
    "name": "ipython",
    "version": 3
   },
   "file_extension": ".py",
   "mimetype": "text/x-python",
   "name": "python",
   "nbconvert_exporter": "python",
   "pygments_lexer": "ipython3",
   "version": "3.12.7"
  }
 },
 "nbformat": 4,
 "nbformat_minor": 5
}

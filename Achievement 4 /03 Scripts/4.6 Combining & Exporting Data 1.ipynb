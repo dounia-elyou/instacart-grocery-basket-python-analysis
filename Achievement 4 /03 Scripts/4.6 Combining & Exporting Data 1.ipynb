{
 "cells": [
  {
   "cell_type": "markdown",
   "id": "735ce742-c553-45b0-8412-3c613afd04b2",
   "metadata": {},
   "source": [
    "# Importing Libraries"
   ]
  },
  {
   "cell_type": "code",
   "execution_count": 2,
   "id": "6ab960e5-1afe-460a-ab7f-f6a55d4be4f2",
   "metadata": {},
   "outputs": [],
   "source": [
    "# Import libraries\n",
    "import pandas as pd\n",
    "import numpy as np\n",
    "import os"
   ]
  },
  {
   "cell_type": "markdown",
   "id": "c9c4becc-ff6d-4348-a2cf-257258c9bc76",
   "metadata": {},
   "source": [
    "# Importing Data Bases"
   ]
  },
  {
   "cell_type": "code",
   "execution_count": 60,
   "id": "ff2eebda-ff70-4d52-8abe-e2974e06e00a",
   "metadata": {},
   "outputs": [],
   "source": [
    "# Import orders.csv\n",
    "# Create a string of the path\n",
    "# Define the path variable\n",
    "path=r'/Users/douniaelyoussoufi/Achievement 4 '\n",
    "# Load the Orders CSV file directly using os.path.join\n",
    "df_ords = pd.read_csv(os.path.join(path, '02 Data', 'Original Data', 'orders.csv'), index_col=False)\n",
    "# Import orders_products_prior\n",
    "df_ords_prior = pd.read_csv(os.path.join(path, '02 Data', 'Original Data', 'orders_products_prior.csv'), index_col=False)"
   ]
  },
  {
   "cell_type": "markdown",
   "id": "6be43048-831d-4f9d-bce7-93426c6c508b",
   "metadata": {},
   "source": [
    "# Step 1: Exercise 4.6"
   ]
  },
  {
   "cell_type": "code",
   "execution_count": 25,
   "id": "87170466-d135-43b2-9851-734288388e82",
   "metadata": {},
   "outputs": [
    {
     "data": {
      "text/html": [
       "<div>\n",
       "<style scoped>\n",
       "    .dataframe tbody tr th:only-of-type {\n",
       "        vertical-align: middle;\n",
       "    }\n",
       "\n",
       "    .dataframe tbody tr th {\n",
       "        vertical-align: top;\n",
       "    }\n",
       "\n",
       "    .dataframe thead th {\n",
       "        text-align: right;\n",
       "    }\n",
       "</style>\n",
       "<table border=\"1\" class=\"dataframe\">\n",
       "  <thead>\n",
       "    <tr style=\"text-align: right;\">\n",
       "      <th></th>\n",
       "      <th>order_id</th>\n",
       "      <th>product_id</th>\n",
       "      <th>add_to_cart_order</th>\n",
       "      <th>reordered</th>\n",
       "    </tr>\n",
       "  </thead>\n",
       "  <tbody>\n",
       "    <tr>\n",
       "      <th>0</th>\n",
       "      <td>2</td>\n",
       "      <td>33120</td>\n",
       "      <td>1</td>\n",
       "      <td>1</td>\n",
       "    </tr>\n",
       "    <tr>\n",
       "      <th>1</th>\n",
       "      <td>2</td>\n",
       "      <td>28985</td>\n",
       "      <td>2</td>\n",
       "      <td>1</td>\n",
       "    </tr>\n",
       "    <tr>\n",
       "      <th>2</th>\n",
       "      <td>2</td>\n",
       "      <td>9327</td>\n",
       "      <td>3</td>\n",
       "      <td>0</td>\n",
       "    </tr>\n",
       "    <tr>\n",
       "      <th>3</th>\n",
       "      <td>2</td>\n",
       "      <td>45918</td>\n",
       "      <td>4</td>\n",
       "      <td>1</td>\n",
       "    </tr>\n",
       "    <tr>\n",
       "      <th>4</th>\n",
       "      <td>2</td>\n",
       "      <td>30035</td>\n",
       "      <td>5</td>\n",
       "      <td>0</td>\n",
       "    </tr>\n",
       "  </tbody>\n",
       "</table>\n",
       "</div>"
      ],
      "text/plain": [
       "   order_id  product_id  add_to_cart_order  reordered\n",
       "0         2       33120                  1          1\n",
       "1         2       28985                  2          1\n",
       "2         2        9327                  3          0\n",
       "3         2       45918                  4          1\n",
       "4         2       30035                  5          0"
      ]
     },
     "execution_count": 25,
     "metadata": {},
     "output_type": "execute_result"
    }
   ],
   "source": [
    "# Check the dataframe of df_ords_prior\n",
    "df_ords_prior.head()"
   ]
  },
  {
   "cell_type": "code",
   "execution_count": 10,
   "id": "62040fac-2fba-4a73-811b-d4e44739f72c",
   "metadata": {},
   "outputs": [
    {
     "data": {
      "text/plain": [
       "(32434489, 4)"
      ]
     },
     "execution_count": 10,
     "metadata": {},
     "output_type": "execute_result"
    }
   ],
   "source": [
    "# Check the dimensions of df_ords_prior\n",
    "df_ords_prior.shape"
   ]
  },
  {
   "cell_type": "code",
   "execution_count": 27,
   "id": "241c2c27-65dd-4964-995a-66679c9cd22c",
   "metadata": {},
   "outputs": [
    {
     "data": {
      "text/plain": [
       "(3421083, 7)"
      ]
     },
     "execution_count": 27,
     "metadata": {},
     "output_type": "execute_result"
    }
   ],
   "source": [
    "# Check the dimensions of df_ords\n",
    "df_ords.shape"
   ]
  },
  {
   "cell_type": "code",
   "execution_count": 23,
   "id": "7ad57f0c-b5d4-4c7d-99fe-1ab086dd222b",
   "metadata": {
    "scrolled": true
   },
   "outputs": [
    {
     "data": {
      "text/html": [
       "<div>\n",
       "<style scoped>\n",
       "    .dataframe tbody tr th:only-of-type {\n",
       "        vertical-align: middle;\n",
       "    }\n",
       "\n",
       "    .dataframe tbody tr th {\n",
       "        vertical-align: top;\n",
       "    }\n",
       "\n",
       "    .dataframe thead th {\n",
       "        text-align: right;\n",
       "    }\n",
       "</style>\n",
       "<table border=\"1\" class=\"dataframe\">\n",
       "  <thead>\n",
       "    <tr style=\"text-align: right;\">\n",
       "      <th></th>\n",
       "      <th>order_id</th>\n",
       "      <th>product_id</th>\n",
       "      <th>add_to_cart_order</th>\n",
       "      <th>reordered</th>\n",
       "      <th>user_id</th>\n",
       "      <th>eval_set</th>\n",
       "      <th>order_number</th>\n",
       "      <th>order_dow</th>\n",
       "      <th>order_hour_of_day</th>\n",
       "      <th>days_since_prior_order</th>\n",
       "      <th>_merge</th>\n",
       "    </tr>\n",
       "  </thead>\n",
       "  <tbody>\n",
       "    <tr>\n",
       "      <th>0</th>\n",
       "      <td>2</td>\n",
       "      <td>33120</td>\n",
       "      <td>1</td>\n",
       "      <td>1</td>\n",
       "      <td>202279</td>\n",
       "      <td>prior</td>\n",
       "      <td>3</td>\n",
       "      <td>5</td>\n",
       "      <td>9</td>\n",
       "      <td>8.0</td>\n",
       "      <td>both</td>\n",
       "    </tr>\n",
       "    <tr>\n",
       "      <th>1</th>\n",
       "      <td>2</td>\n",
       "      <td>28985</td>\n",
       "      <td>2</td>\n",
       "      <td>1</td>\n",
       "      <td>202279</td>\n",
       "      <td>prior</td>\n",
       "      <td>3</td>\n",
       "      <td>5</td>\n",
       "      <td>9</td>\n",
       "      <td>8.0</td>\n",
       "      <td>both</td>\n",
       "    </tr>\n",
       "    <tr>\n",
       "      <th>2</th>\n",
       "      <td>2</td>\n",
       "      <td>9327</td>\n",
       "      <td>3</td>\n",
       "      <td>0</td>\n",
       "      <td>202279</td>\n",
       "      <td>prior</td>\n",
       "      <td>3</td>\n",
       "      <td>5</td>\n",
       "      <td>9</td>\n",
       "      <td>8.0</td>\n",
       "      <td>both</td>\n",
       "    </tr>\n",
       "    <tr>\n",
       "      <th>3</th>\n",
       "      <td>2</td>\n",
       "      <td>45918</td>\n",
       "      <td>4</td>\n",
       "      <td>1</td>\n",
       "      <td>202279</td>\n",
       "      <td>prior</td>\n",
       "      <td>3</td>\n",
       "      <td>5</td>\n",
       "      <td>9</td>\n",
       "      <td>8.0</td>\n",
       "      <td>both</td>\n",
       "    </tr>\n",
       "    <tr>\n",
       "      <th>4</th>\n",
       "      <td>2</td>\n",
       "      <td>30035</td>\n",
       "      <td>5</td>\n",
       "      <td>0</td>\n",
       "      <td>202279</td>\n",
       "      <td>prior</td>\n",
       "      <td>3</td>\n",
       "      <td>5</td>\n",
       "      <td>9</td>\n",
       "      <td>8.0</td>\n",
       "      <td>both</td>\n",
       "    </tr>\n",
       "  </tbody>\n",
       "</table>\n",
       "</div>"
      ],
      "text/plain": [
       "   order_id  product_id  add_to_cart_order  reordered  user_id eval_set  \\\n",
       "0         2       33120                  1          1   202279    prior   \n",
       "1         2       28985                  2          1   202279    prior   \n",
       "2         2        9327                  3          0   202279    prior   \n",
       "3         2       45918                  4          1   202279    prior   \n",
       "4         2       30035                  5          0   202279    prior   \n",
       "\n",
       "   order_number  order_dow  order_hour_of_day  days_since_prior_order _merge  \n",
       "0             3          5                  9                     8.0   both  \n",
       "1             3          5                  9                     8.0   both  \n",
       "2             3          5                  9                     8.0   both  \n",
       "3             3          5                  9                     8.0   both  \n",
       "4             3          5                  9                     8.0   both  "
      ]
     },
     "execution_count": 23,
     "metadata": {},
     "output_type": "execute_result"
    }
   ],
   "source": [
    "# Merge df_ords_prior with df_ords using the indicator argument\n",
    "df_merge = df_ords_prior.merge(df_ords, on='order_id', indicator=True)\n",
    "# Display the first five rows to check the merge results\n",
    "df_merge.head()"
   ]
  },
  {
   "cell_type": "code",
   "execution_count": 33,
   "id": "999d9ca8-b781-4f49-a47d-2f7ed2df8d18",
   "metadata": {
    "scrolled": true
   },
   "outputs": [
    {
     "data": {
      "text/plain": [
       "_merge\n",
       "both          32434489\n",
       "left_only            0\n",
       "right_only           0\n",
       "Name: count, dtype: int64"
      ]
     },
     "execution_count": 33,
     "metadata": {},
     "output_type": "execute_result"
    }
   ],
   "source": [
    "# Check the value counts of the _merge column\n",
    "df_merge['_merge'].value_counts()"
   ]
  },
  {
   "cell_type": "markdown",
   "id": "c75f38eb-4843-4a4d-8ca5-e59a881f1d75",
   "metadata": {},
   "source": [
    "Comment: This indicates a perfect full match between df_ords_prior and df_ords. Every order_id in both datasets overlaps entirely, with no rows exclusive to either dataset"
   ]
  },
  {
   "cell_type": "code",
   "execution_count": 35,
   "id": "53a6fb57-47f5-416a-8aef-6b8f963064fc",
   "metadata": {
    "scrolled": true
   },
   "outputs": [
    {
     "data": {
      "text/plain": [
       "_merge\n",
       "both          32434489\n",
       "right_only      206209\n",
       "left_only            0\n",
       "Name: count, dtype: int64"
      ]
     },
     "execution_count": 35,
     "metadata": {},
     "output_type": "execute_result"
    }
   ],
   "source": [
    "# Merge df_ords_prior with df_ords using the argument how = 'outer'\n",
    "df_merged = df_ords_prior.merge(df_ords, on='order_id', how='outer', indicator=True)\n",
    "# Check the value counts of the _merge column\n",
    "df_merged['_merge'].value_counts()"
   ]
  },
  {
   "cell_type": "markdown",
   "id": "5a214e40-9785-4f4e-abad-7032c88f4d0c",
   "metadata": {},
   "source": [
    "Comment: This merge shows that while all rows in df_ords_prior are matched (left_only=0), there are 206,209 rows in df_ords that do not have corresponding order_id entries in df_ords_prior."
   ]
  },
  {
   "cell_type": "code",
   "execution_count": 37,
   "id": "60f7c81b-0534-4a50-84d1-2bc598fe453a",
   "metadata": {
    "scrolled": true
   },
   "outputs": [
    {
     "data": {
      "text/plain": [
       "_merge\n",
       "both          32434489\n",
       "left_only            0\n",
       "right_only           0\n",
       "Name: count, dtype: int64"
      ]
     },
     "execution_count": 37,
     "metadata": {},
     "output_type": "execute_result"
    }
   ],
   "source": [
    "# Merge df_ords_prior with df_ords using the argument how = 'inner'\n",
    "df_merged1 = df_ords_prior.merge(df_ords, on='order_id', how='inner', indicator=True)\n",
    "# Check the value counts of the _merge column\n",
    "df_merged1['_merge'].value_counts()"
   ]
  },
  {
   "cell_type": "markdown",
   "id": "52f022a0-8163-4b8d-8e3b-014c2eeb8ac3",
   "metadata": {},
   "source": [
    "Comment: This result reflects only the rows that match between the two datasets. It confirms that there are 32,434,489 rows with order_id in both datasets, consistent with the 'both' count from the outer join."
   ]
  },
  {
   "cell_type": "markdown",
   "id": "1ac7773a-fff9-498e-8f99-adfeed9d0872",
   "metadata": {},
   "source": [
    "Overall Comment:\n",
    "The two datasets have a significant overlap, with 32,434,489 matching rows (order_id values).\n",
    "However, df_ords has 206,209 extra rows (indicated by right_only), which are not present in df_ords_prior. These should be reviewed for relevance, as they might represent new or unmatched data."
   ]
  },
  {
   "cell_type": "markdown",
   "id": "497e857c-3ca9-4762-b9d7-ffb47d5c23ec",
   "metadata": {},
   "source": [
    "# Step 2"
   ]
  },
  {
   "cell_type": "code",
   "execution_count": 64,
   "id": "4b9578af-ff14-4292-b23e-875a78af3ccb",
   "metadata": {},
   "outputs": [
    {
     "data": {
      "text/plain": [
       "(32434489, 11)"
      ]
     },
     "execution_count": 64,
     "metadata": {},
     "output_type": "execute_result"
    }
   ],
   "source": [
    "# Check the dimensions of df_merge\n",
    "df_merge.shape"
   ]
  },
  {
   "cell_type": "code",
   "execution_count": 66,
   "id": "cadd867d-c8f2-4e6b-a4b9-5284d9515561",
   "metadata": {},
   "outputs": [],
   "source": [
    "# Export data df_merge dataframe to pkl\n",
    "df_merge.to_pickle(os.path.join(path, '02 Data','Prepared Data', 'orders_products_combined.pkl'))"
   ]
  }
 ],
 "metadata": {
  "kernelspec": {
   "display_name": "Python [conda env:base] *",
   "language": "python",
   "name": "conda-base-py"
  },
  "language_info": {
   "codemirror_mode": {
    "name": "ipython",
    "version": 3
   },
   "file_extension": ".py",
   "mimetype": "text/x-python",
   "name": "python",
   "nbconvert_exporter": "python",
   "pygments_lexer": "ipython3",
   "version": "3.12.7"
  }
 },
 "nbformat": 4,
 "nbformat_minor": 5
}
